{
  "nbformat": 4,
  "nbformat_minor": 0,
  "metadata": {
    "colab": {
      "provenance": [],
      "authorship_tag": "ABX9TyPQvgKR1IOY9O8bkz6hGgnI",
      "include_colab_link": true
    },
    "kernelspec": {
      "name": "python3",
      "display_name": "Python 3"
    },
    "language_info": {
      "name": "python"
    }
  },
  "cells": [
    {
      "cell_type": "markdown",
      "metadata": {
        "id": "view-in-github",
        "colab_type": "text"
      },
      "source": [
        "<a href=\"https://colab.research.google.com/github/aniketmondal1210/CodePlayground/blob/main/Calculus_in_Python.ipynb\" target=\"_parent\"><img src=\"https://colab.research.google.com/assets/colab-badge.svg\" alt=\"Open In Colab\"/></a>"
      ]
    },
    {
      "cell_type": "code",
      "execution_count": 2,
      "metadata": {
        "colab": {
          "base_uri": "https://localhost:8080/"
        },
        "id": "51-2lpVaKmwX",
        "outputId": "3eb4453b-d13d-41a1-cca7-d0f25e079c9e"
      },
      "outputs": [
        {
          "output_type": "stream",
          "name": "stdout",
          "text": [
            "cos(x)\n",
            "2*cos(2*x)\n",
            "2*x*cos(x**2)\n",
            "2*x*exp(x**2)*sin(x) + exp(x**2)*cos(x)\n"
          ]
        }
      ],
      "source": [
        "# sympy(library to do calculus with python)\n",
        "import sympy as sym\n",
        "x = sym.symbols('x')\n",
        "derivative1 = sym.diff(sym.sin(x),x)\n",
        "print(derivative1)\n",
        "derivative2 = sym.diff(sym.sin(2*x),x)\n",
        "print(derivative2)\n",
        "derivative3 = sym.diff(sym.sin(x**2),x)\n",
        "print(derivative3)\n",
        "derivative4 = sym.diff(sym.exp(x**2)*sym.sin(x),x)\n",
        "print(derivative4)"
      ]
    },
    {
      "cell_type": "code",
      "source": [
        "import sympy as sym\n",
        "# sym.diff(func,var,n)\n",
        "x = sym.symbols('x')\n",
        "func = sym.sin(x)**2+sym.exp(x**2)\n",
        "derivative1 = sym.diff(func,x,2) # 2 for 2nd derivative / 3 for 3rd derivative\n",
        "print(derivative1)"
      ],
      "metadata": {
        "colab": {
          "base_uri": "https://localhost:8080/"
        },
        "id": "xzfUUpb9LtoD",
        "outputId": "25cb77c3-e4dd-455a-938e-40963e02cde1"
      },
      "execution_count": 3,
      "outputs": [
        {
          "output_type": "stream",
          "name": "stdout",
          "text": [
            "2*(2*x**2*exp(x**2) + exp(x**2) - sin(x)**2 + cos(x)**2)\n"
          ]
        }
      ]
    },
    {
      "cell_type": "code",
      "source": [
        "import sympy as sym\n",
        "x, y, z = sym.symbols('x,y,z')\n",
        "func = x**3*y+y**2+z**3\n",
        "derivative1 = sym.diff(func,x)\n",
        "print(derivative1)\n",
        "derivative2 = sym.diff(func,y)\n",
        "print(derivative2)\n",
        "derivative3 = sym.diff(func,z)\n",
        "print(derivative3)"
      ],
      "metadata": {
        "colab": {
          "base_uri": "https://localhost:8080/"
        },
        "id": "Q-EVLt0cMT1E",
        "outputId": "b1cf681a-1944-410f-bf95-75fd7baa0b1a"
      },
      "execution_count": 7,
      "outputs": [
        {
          "output_type": "stream",
          "name": "stdout",
          "text": [
            "3*x**2*y\n",
            "x**3 + 2*y\n",
            "3*z**2\n"
          ]
        }
      ]
    },
    {
      "cell_type": "code",
      "source": [
        "import sympy as sym\n",
        "x, y, z = sym.symbols('x,y,z')\n",
        "func = x**3*y+y**2+z**3\n",
        "derivative1 = sym.diff(func,x,x)\n",
        "print(derivative1)"
      ],
      "metadata": {
        "colab": {
          "base_uri": "https://localhost:8080/"
        },
        "id": "WsswS9nMNAaW",
        "outputId": "e4ef13b3-f6b6-4269-9a46-ab55f47e95bd"
      },
      "execution_count": 8,
      "outputs": [
        {
          "output_type": "stream",
          "name": "stdout",
          "text": [
            "6*x*y\n"
          ]
        }
      ]
    },
    {
      "cell_type": "code",
      "source": [
        "import sympy as sym\n",
        "x, y, z = sym.symbols('x,y,z')\n",
        "func = x**3*y+y**2+z**3\n",
        "derivative1 = sym.diff(func,x,y)\n",
        "print(derivative1)"
      ],
      "metadata": {
        "colab": {
          "base_uri": "https://localhost:8080/"
        },
        "id": "jJnjIAIoNRU3",
        "outputId": "77817e83-aa27-47f1-eab4-7d51e40b4907"
      },
      "execution_count": 9,
      "outputs": [
        {
          "output_type": "stream",
          "name": "stdout",
          "text": [
            "3*x**2\n"
          ]
        }
      ]
    },
    {
      "cell_type": "code",
      "source": [
        "# sym.integrate(func,var)\n",
        "# sym.integrate(func,(var,lower_limit,upper_limit))\n",
        "import sympy as sym\n",
        "x = sym.symbols('x')\n",
        "integration = sym.integrate(sym.sin(x),x)\n",
        "print(integration)"
      ],
      "metadata": {
        "colab": {
          "base_uri": "https://localhost:8080/"
        },
        "id": "ekVHr-4RNgQ1",
        "outputId": "2b1e3d86-274e-45c5-d49e-e161d2b55c37"
      },
      "execution_count": 10,
      "outputs": [
        {
          "output_type": "stream",
          "name": "stdout",
          "text": [
            "-cos(x)\n"
          ]
        }
      ]
    },
    {
      "cell_type": "code",
      "source": [
        "import sympy as sym\n",
        "x = sym.symbols('x')\n",
        "integration = sym.integrate(sym.sin(x),(x,0,1))\n",
        "print(integration)"
      ],
      "metadata": {
        "colab": {
          "base_uri": "https://localhost:8080/"
        },
        "id": "El5VduRXNtN8",
        "outputId": "6429680a-e932-4aeb-c2e7-fdecff0c804d"
      },
      "execution_count": 12,
      "outputs": [
        {
          "output_type": "stream",
          "name": "stdout",
          "text": [
            "1 - cos(1)\n"
          ]
        }
      ]
    },
    {
      "cell_type": "code",
      "source": [
        "import sympy as sym\n",
        "x = sym.symbols('x')\n",
        "integration = sym.integrate(sym.exp(-x),(x,0,sym.oo))\n",
        "print(integration)"
      ],
      "metadata": {
        "colab": {
          "base_uri": "https://localhost:8080/"
        },
        "id": "Hn4a73EFOFHl",
        "outputId": "90440057-8716-4f50-aa1b-3a665631e14d"
      },
      "execution_count": 14,
      "outputs": [
        {
          "output_type": "stream",
          "name": "stdout",
          "text": [
            "1\n"
          ]
        }
      ]
    },
    {
      "cell_type": "code",
      "source": [
        "import sympy as sym\n",
        "x = sym.symbols('x')\n",
        "integration = sym.integrate(sym.exp(-x),(x,0,sym.pi))\n",
        "print(integration)"
      ],
      "metadata": {
        "colab": {
          "base_uri": "https://localhost:8080/"
        },
        "id": "Xo4xml4cOfgW",
        "outputId": "501b6c6b-b32d-4014-a328-ee53c33c5b37"
      },
      "execution_count": 17,
      "outputs": [
        {
          "output_type": "stream",
          "name": "stdout",
          "text": [
            "1 - exp(-pi)\n"
          ]
        }
      ]
    },
    {
      "cell_type": "code",
      "source": [
        "# double integral\n",
        "import sympy as sym\n",
        "x, y = sym.symbols('x,y')\n",
        "d_integration = sym.integrate(sym.exp(-x**2-y**2),(x,-sym.oo,sym.oo),(y,-sym.oo,sym.oo))\n",
        "print(d_integration)"
      ],
      "metadata": {
        "colab": {
          "base_uri": "https://localhost:8080/"
        },
        "id": "7O_kvYU4OQMd",
        "outputId": "da40458e-4835-4548-a0ae-9c2e39f6ea0a"
      },
      "execution_count": 15,
      "outputs": [
        {
          "output_type": "stream",
          "name": "stdout",
          "text": [
            "pi\n"
          ]
        }
      ]
    },
    {
      "cell_type": "code",
      "source": [
        "# limits\n",
        "# sym.limit(function, variable, point)\n",
        "import sympy as sym\n",
        "x = sym.symbols('x')\n",
        "limit = sym.limit(sym.exp(-x),x,0)\n",
        "print(limit)"
      ],
      "metadata": {
        "colab": {
          "base_uri": "https://localhost:8080/"
        },
        "id": "PVtRFKErOvk-",
        "outputId": "b1927f65-6c1d-458c-d429-072a64b53139"
      },
      "execution_count": 20,
      "outputs": [
        {
          "output_type": "stream",
          "name": "stdout",
          "text": [
            "1\n"
          ]
        }
      ]
    },
    {
      "cell_type": "code",
      "source": [
        "import sympy as sym\n",
        "x = sym.symbols('x')\n",
        "limit = sym.limit(sym.exp(-x)/x,x,sym.oo)\n",
        "print(limit)"
      ],
      "metadata": {
        "colab": {
          "base_uri": "https://localhost:8080/"
        },
        "id": "V03HEAw1PGQP",
        "outputId": "94dd4c79-33bd-4738-e795-2f7f4c9c7242"
      },
      "execution_count": 21,
      "outputs": [
        {
          "output_type": "stream",
          "name": "stdout",
          "text": [
            "0\n"
          ]
        }
      ]
    },
    {
      "cell_type": "code",
      "source": [
        "# series expansion\n",
        "# sym.series(function,x,x0,n)\n",
        "import sympy as sym\n",
        "x = sym.symbols('x')\n",
        "series = sym.series(sym.cos(x),x)\n",
        "print(series)"
      ],
      "metadata": {
        "colab": {
          "base_uri": "https://localhost:8080/"
        },
        "id": "ylfRYwp0PQSF",
        "outputId": "41554660-0012-49f6-bfed-7d3a43b66602"
      },
      "execution_count": 23,
      "outputs": [
        {
          "output_type": "stream",
          "name": "stdout",
          "text": [
            "1 - x**2/2 + x**4/24 + O(x**6)\n"
          ]
        }
      ]
    },
    {
      "cell_type": "code",
      "source": [
        "import sympy as sym\n",
        "x = sym.symbols('x')\n",
        "series = sym.series(sym.cos(x)**2,x,1,4)\n",
        "print(series)"
      ],
      "metadata": {
        "colab": {
          "base_uri": "https://localhost:8080/"
        },
        "id": "3fXa9LVdPrnC",
        "outputId": "2ae2de17-a2c7-4db0-8d08-dc44cdf18d92"
      },
      "execution_count": 24,
      "outputs": [
        {
          "output_type": "stream",
          "name": "stdout",
          "text": [
            "cos(1)**2 - 2*(x - 1)*sin(1)*cos(1) + (-1 + sin(1)**2/cos(1)**2)*(x - 1)**2*cos(1)**2 + 4*(x - 1)**3*sin(1)*cos(1)/3 + O((x - 1)**4, (x, 1))\n"
          ]
        }
      ]
    }
  ]
}