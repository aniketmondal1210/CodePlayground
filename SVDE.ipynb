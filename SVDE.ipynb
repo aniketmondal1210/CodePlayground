{
  "nbformat": 4,
  "nbformat_minor": 0,
  "metadata": {
    "colab": {
      "provenance": [],
      "authorship_tag": "ABX9TyOTZ64AhCiqbBzM8CQbTrUY",
      "include_colab_link": true
    },
    "kernelspec": {
      "name": "python3",
      "display_name": "Python 3"
    },
    "language_info": {
      "name": "python"
    }
  },
  "cells": [
    {
      "cell_type": "markdown",
      "metadata": {
        "id": "view-in-github",
        "colab_type": "text"
      },
      "source": [
        "<a href=\"https://colab.research.google.com/github/aniketmondal1210/CodePlayground/blob/main/SVDE.ipynb\" target=\"_parent\"><img src=\"https://colab.research.google.com/assets/colab-badge.svg\" alt=\"Open In Colab\"/></a>"
      ]
    },
    {
      "cell_type": "markdown",
      "source": [
        "**Singular Value Decomposition (SVD) Example using numpy (Not using scikit-learn here)**\n",
        "\n",
        "Given a rectangular matrix A, it can be factored into the form of A=UΣ(V^T) where U and V^T are orthonormal and Σ is a diagonal matrix of singulr values"
      ],
      "metadata": {
        "id": "_A9bI0OiXls4"
      }
    },
    {
      "cell_type": "code",
      "execution_count": null,
      "metadata": {
        "id": "DDTLWHq4oDqs"
      },
      "outputs": [],
      "source": [
        "import numpy as np\n",
        "np.set_printoptions(precision=4, suppress=True)"
      ]
    },
    {
      "cell_type": "markdown",
      "source": [
        "We will take a simple 3x4 matrix and look at its Singular Value Decomposition with numpy"
      ],
      "metadata": {
        "id": "_Id61o0CYv3y"
      }
    },
    {
      "cell_type": "code",
      "source": [
        "a = np.array([[1,2,3,4],[1,1,2,3],[0,1,1,0]])\n",
        "print(a)"
      ],
      "metadata": {
        "colab": {
          "base_uri": "https://localhost:8080/"
        },
        "id": "zJlGVRRpok2U",
        "outputId": "f4f72e96-3845-4d5e-8181-8f7d1c01444b"
      },
      "execution_count": null,
      "outputs": [
        {
          "output_type": "stream",
          "name": "stdout",
          "text": [
            "[[1 2 3 4]\n",
            " [1 1 2 3]\n",
            " [0 1 1 0]]\n"
          ]
        }
      ]
    },
    {
      "cell_type": "markdown",
      "source": [
        "The SVD of this 3x4 matrix seeks a factorization in the form\n",
        "Here is the correct matrix representation with \\(\\sigma_3\\) in the correct position:  \n",
        "\\\n",
        "\\begin{bmatrix}\n",
        "1 & 2 & 3 & 4 \\\\\n",
        "1 & 1 & 2 & 3 \\\\\n",
        "0 & 1 & 1 & 0\n",
        "\\end{bmatrix} =\n",
        "\\begin{bmatrix}\n",
        "a_{11} & a_{12} & a_{13} \\\\\n",
        "a_{21} & a_{22} & a_{23} \\\\\n",
        "a_{31} & a_{32} & a_{33}\n",
        "\\end{bmatrix} x\n",
        "\\begin{bmatrix}\n",
        "\\sigma_1 & 0 & 0 & 0 \\\\\n",
        "0 & \\sigma_2 & 0 & 0 \\\\\n",
        "0 & 0 & \\sigma_3 & 0\n",
        "\\end{bmatrix} x\n",
        "\\begin{bmatrix}\n",
        "b_{11} & b_{12} & b_{13} & b_{14} \\\\\n",
        "b_{21} & b_{22} & b_{23} & b_{24} \\\\\n",
        "b_{31} & b_{32} & b_{33} & b_{34} \\\\\n",
        "b_{41} & b_{42} & b_{43} & b_{44}\n",
        "\\end{bmatrix}\n",
        "\n"
      ],
      "metadata": {
        "id": "a0oix7srZSyd"
      }
    },
    {
      "cell_type": "markdown",
      "source": [],
      "metadata": {
        "id": "8bNUuFOMc5cw"
      }
    },
    {
      "cell_type": "markdown",
      "source": [
        "The number of singular values, σ's is at most 3, since the original matrix has rank of at most 3"
      ],
      "metadata": {
        "id": "Z5dhilJ4coqD"
      }
    },
    {
      "cell_type": "markdown",
      "source": [
        "The left singular matrix and the right singular matrix are orthonormal"
      ],
      "metadata": {
        "id": "jSEOWatbc6dE"
      }
    },
    {
      "cell_type": "code",
      "source": [
        "u,s,vh = np.linalg.svd(a, full_matrices=True)\n",
        "print(s)"
      ],
      "metadata": {
        "colab": {
          "base_uri": "https://localhost:8080/"
        },
        "id": "1VAEjRCtphfY",
        "outputId": "dcabaae0-4d90-4ea8-ec63-0d49cd67cdf3"
      },
      "execution_count": null,
      "outputs": [
        {
          "output_type": "stream",
          "name": "stdout",
          "text": [
            "[[ 0.2046  0.3443  0.5488  0.7338]\n",
            " [-0.2181  0.6561  0.438  -0.5746]\n",
            " [ 0.7598 -0.3431  0.4167 -0.3625]\n",
            " [-0.5774 -0.5774  0.5774  0.    ]]\n",
            "[[ 1.  0. -0.  0.]\n",
            " [ 0.  1.  0.  0.]\n",
            " [-0.  0.  1.  0.]\n",
            " [ 0.  0.  0.  1.]]\n",
            "[6.7509 1.1734 0.2186]\n"
          ]
        }
      ]
    },
    {
      "cell_type": "code",
      "source": [
        "u.shape, s.shape, vh.shape"
      ],
      "metadata": {
        "colab": {
          "base_uri": "https://localhost:8080/"
        },
        "id": "gZol51Rgpg65",
        "outputId": "845d4444-8d2e-485c-c35d-4e79dc7428af"
      },
      "execution_count": null,
      "outputs": [
        {
          "output_type": "execute_result",
          "data": {
            "text/plain": [
              "((3, 3), (3,), (4, 4))"
            ]
          },
          "metadata": {},
          "execution_count": 11
        }
      ]
    },
    {
      "cell_type": "code",
      "source": [
        "print(u)\n",
        "print(u.dot(u.T))"
      ],
      "metadata": {
        "colab": {
          "base_uri": "https://localhost:8080/"
        },
        "id": "DvgRhMpgq-_c",
        "outputId": "f336e20a-9568-4906-e3d3-bf519e797916"
      },
      "execution_count": null,
      "outputs": [
        {
          "output_type": "stream",
          "name": "stdout",
          "text": [
            "[[ 0.8109  0.0934 -0.5776]\n",
            " [ 0.57   -0.3493  0.7437]\n",
            " [ 0.1323  0.9324  0.3365]]\n",
            "[[ 1.  0.  0.]\n",
            " [ 0.  1. -0.]\n",
            " [ 0. -0.  1.]]\n"
          ]
        }
      ]
    },
    {
      "cell_type": "code",
      "source": [
        "print(vh)\n",
        "print(vh.dot(vh.T))"
      ],
      "metadata": {
        "colab": {
          "base_uri": "https://localhost:8080/"
        },
        "id": "iCf9GqBjrBtb",
        "outputId": "9a258952-e38a-4d0b-e2cf-36117228b601"
      },
      "execution_count": null,
      "outputs": [
        {
          "output_type": "stream",
          "name": "stdout",
          "text": [
            "[[ 0.2046  0.3443  0.5488  0.7338]\n",
            " [-0.2181  0.6561  0.438  -0.5746]\n",
            " [ 0.7598 -0.3431  0.4167 -0.3625]\n",
            " [-0.5774 -0.5774  0.5774  0.    ]]\n",
            "[[ 1.  0. -0.  0.]\n",
            " [ 0.  1.  0.  0.]\n",
            " [-0.  0.  1.  0.]\n",
            " [ 0.  0.  0.  1.]]\n"
          ]
        }
      ]
    },
    {
      "cell_type": "code",
      "source": [
        "np.dot(vh,vh.T) # Verify vh is orthonormal"
      ],
      "metadata": {
        "colab": {
          "base_uri": "https://localhost:8080/"
        },
        "id": "kgrNeO2-rGgA",
        "outputId": "9ce1dd16-9e1b-4aca-83cb-4eabf4de21ed"
      },
      "execution_count": null,
      "outputs": [
        {
          "output_type": "execute_result",
          "data": {
            "text/plain": [
              "array([[ 1.,  0., -0.,  0.],\n",
              "       [ 0.,  1.,  0.,  0.],\n",
              "       [-0.,  0.,  1.,  0.],\n",
              "       [ 0.,  0.,  0.,  1.]])"
            ]
          },
          "metadata": {},
          "execution_count": 15
        }
      ]
    },
    {
      "cell_type": "code",
      "source": [
        "sd = np.diag(s) # Makes a 3x3 diagonal matrix with x along the diagonal\n",
        "print(sd)"
      ],
      "metadata": {
        "colab": {
          "base_uri": "https://localhost:8080/"
        },
        "id": "4nZ24_RMrQfR",
        "outputId": "d29664f7-8203-48ee-80dc-b1d9eff03e6b"
      },
      "execution_count": null,
      "outputs": [
        {
          "output_type": "stream",
          "name": "stdout",
          "text": [
            "[[6.7509 0.     0.    ]\n",
            " [0.     1.1734 0.    ]\n",
            " [0.     0.     0.2186]]\n"
          ]
        }
      ]
    },
    {
      "cell_type": "code",
      "source": [
        "sd.shape"
      ],
      "metadata": {
        "colab": {
          "base_uri": "https://localhost:8080/"
        },
        "id": "VZOIEDLhrlb9",
        "outputId": "c504ef1a-6709-4149-d49d-0c1311782c9b"
      },
      "execution_count": null,
      "outputs": [
        {
          "output_type": "execute_result",
          "data": {
            "text/plain": [
              "(3, 3)"
            ]
          },
          "metadata": {},
          "execution_count": 18
        }
      ]
    },
    {
      "cell_type": "code",
      "source": [
        "b = np.zeros((3,4))\n",
        "print(b)"
      ],
      "metadata": {
        "colab": {
          "base_uri": "https://localhost:8080/"
        },
        "id": "s8xA9fevrnmR",
        "outputId": "7244b263-9cb5-489f-ccd6-e150d00f5c63"
      },
      "execution_count": null,
      "outputs": [
        {
          "output_type": "stream",
          "name": "stdout",
          "text": [
            "[[0. 0. 0. 0.]\n",
            " [0. 0. 0. 0.]\n",
            " [0. 0. 0. 0.]]\n"
          ]
        }
      ]
    },
    {
      "cell_type": "code",
      "source": [
        "b[:,:-1] = sd"
      ],
      "metadata": {
        "id": "mYLOfL8frwl_"
      },
      "execution_count": null,
      "outputs": []
    },
    {
      "cell_type": "code",
      "source": [
        "sigma = b\n",
        "sigma"
      ],
      "metadata": {
        "colab": {
          "base_uri": "https://localhost:8080/"
        },
        "id": "cy_4JlKGsNBB",
        "outputId": "f8cbdc5a-2528-4b42-f544-70f12ed7a516"
      },
      "execution_count": null,
      "outputs": [
        {
          "output_type": "execute_result",
          "data": {
            "text/plain": [
              "array([[6.7509, 0.    , 0.    , 0.    ],\n",
              "       [0.    , 1.1734, 0.    , 0.    ],\n",
              "       [0.    , 0.    , 0.2186, 0.    ]])"
            ]
          },
          "metadata": {},
          "execution_count": 22
        }
      ]
    },
    {
      "cell_type": "code",
      "source": [
        "print(np.dot(np.dot(u,sigma),vh)) # Reconstructing a as product of u,s and vh"
      ],
      "metadata": {
        "colab": {
          "base_uri": "https://localhost:8080/"
        },
        "id": "ysE0PdB9sWky",
        "outputId": "7249bf84-fd08-42d8-952a-d5e2f935812f"
      },
      "execution_count": null,
      "outputs": [
        {
          "output_type": "stream",
          "name": "stdout",
          "text": [
            "[[ 1.  2.  3.  4.]\n",
            " [ 1.  1.  2.  3.]\n",
            " [ 0.  1.  1. -0.]]\n"
          ]
        }
      ]
    },
    {
      "cell_type": "code",
      "source": [
        "sd = np.diagonals(s)\n",
        "print(sd)"
      ],
      "metadata": {
        "id": "pgOgqCZftL_R",
        "outputId": "89087fa9-b5a2-4444-8c7c-3ede16366d68",
        "colab": {
          "base_uri": "https://localhost:8080/",
          "height": 300
        }
      },
      "execution_count": null,
      "outputs": [
        {
          "output_type": "error",
          "ename": "AttributeError",
          "evalue": "module 'numpy' has no attribute 'diagonals'",
          "traceback": [
            "\u001b[0;31m---------------------------------------------------------------------------\u001b[0m",
            "\u001b[0;31mAttributeError\u001b[0m                            Traceback (most recent call last)",
            "\u001b[0;32m<ipython-input-27-ccf44f0ee5ca>\u001b[0m in \u001b[0;36m<cell line: 0>\u001b[0;34m()\u001b[0m\n\u001b[0;32m----> 1\u001b[0;31m \u001b[0msd\u001b[0m \u001b[0;34m=\u001b[0m \u001b[0mnp\u001b[0m\u001b[0;34m.\u001b[0m\u001b[0mdiagonals\u001b[0m\u001b[0;34m(\u001b[0m\u001b[0ms\u001b[0m\u001b[0;34m)\u001b[0m\u001b[0;34m\u001b[0m\u001b[0;34m\u001b[0m\u001b[0m\n\u001b[0m\u001b[1;32m      2\u001b[0m \u001b[0mprint\u001b[0m\u001b[0;34m(\u001b[0m\u001b[0msd\u001b[0m\u001b[0;34m)\u001b[0m\u001b[0;34m\u001b[0m\u001b[0;34m\u001b[0m\u001b[0m\n",
            "\u001b[0;32m/usr/local/lib/python3.11/dist-packages/numpy/__init__.py\u001b[0m in \u001b[0;36m__getattr__\u001b[0;34m(attr)\u001b[0m\n\u001b[1;32m    331\u001b[0m             \u001b[0;32mraise\u001b[0m \u001b[0mRuntimeError\u001b[0m\u001b[0;34m(\u001b[0m\u001b[0;34m\"Tester was removed in NumPy 1.25.\"\u001b[0m\u001b[0;34m)\u001b[0m\u001b[0;34m\u001b[0m\u001b[0;34m\u001b[0m\u001b[0m\n\u001b[1;32m    332\u001b[0m \u001b[0;34m\u001b[0m\u001b[0m\n\u001b[0;32m--> 333\u001b[0;31m         raise AttributeError(\"module {!r} has no attribute \"\n\u001b[0m\u001b[1;32m    334\u001b[0m                              \"{!r}\".format(__name__, attr))\n\u001b[1;32m    335\u001b[0m \u001b[0;34m\u001b[0m\u001b[0m\n",
            "\u001b[0;31mAttributeError\u001b[0m: module 'numpy' has no attribute 'diagonals'"
          ]
        }
      ]
    },
    {
      "cell_type": "code",
      "source": [
        "sd.shape"
      ],
      "metadata": {
        "colab": {
          "base_uri": "https://localhost:8080/"
        },
        "id": "XSI5l-qHs6ye",
        "outputId": "4922e833-a9c3-4bbd-ddbc-8c92f44f3453"
      },
      "execution_count": null,
      "outputs": [
        {
          "output_type": "execute_result",
          "data": {
            "text/plain": [
              "(3, 3)"
            ]
          },
          "metadata": {},
          "execution_count": 25
        }
      ]
    },
    {
      "cell_type": "code",
      "source": [
        "b = np.zeros((3,4))\n",
        "print(b)"
      ],
      "metadata": {
        "colab": {
          "base_uri": "https://localhost:8080/"
        },
        "id": "zr6i_Bn8s84K",
        "outputId": "534c2e5c-87c3-425c-e7bd-0ddd6d27951f"
      },
      "execution_count": null,
      "outputs": [
        {
          "output_type": "stream",
          "name": "stdout",
          "text": [
            "[[0. 0. 0. 0.]\n",
            " [0. 0. 0. 0.]\n",
            " [0. 0. 0. 0.]]\n"
          ]
        }
      ]
    }
  ]
}