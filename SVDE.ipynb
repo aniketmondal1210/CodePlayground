{
  "nbformat": 4,
  "nbformat_minor": 0,
  "metadata": {
    "colab": {
      "provenance": [],
      "authorship_tag": "ABX9TyPdbbsQOFE6U8XWfpZc+veL",
      "include_colab_link": true
    },
    "kernelspec": {
      "name": "python3",
      "display_name": "Python 3"
    },
    "language_info": {
      "name": "python"
    }
  },
  "cells": [
    {
      "cell_type": "markdown",
      "metadata": {
        "id": "view-in-github",
        "colab_type": "text"
      },
      "source": [
        "<a href=\"https://colab.research.google.com/github/aniketmondal1210/CodePlayground/blob/main/SVDE.ipynb\" target=\"_parent\"><img src=\"https://colab.research.google.com/assets/colab-badge.svg\" alt=\"Open In Colab\"/></a>"
      ]
    },
    {
      "cell_type": "markdown",
      "source": [
        "**Singular Value Decomposition (SVD) Example using numpy (Not using scikit-learn here)**\n",
        "\n",
        "Given a rectangular matrix A, it can be factored into the form of A=UΣ(V^T) where U and V^T are orthonormal and Σ is a diagonal matrix of singulr values"
      ],
      "metadata": {
        "id": "_A9bI0OiXls4"
      }
    },
    {
      "cell_type": "code",
      "execution_count": 1,
      "metadata": {
        "id": "DDTLWHq4oDqs"
      },
      "outputs": [],
      "source": [
        "import numpy as np\n",
        "\n",
        "# Set print options for better readability\n",
        "np.set_printoptions(precision=4, suppress=True)"
      ]
    },
    {
      "cell_type": "markdown",
      "source": [
        "We will take a simple 3x4 matrix and look at its Singular Value Decomposition with numpy"
      ],
      "metadata": {
        "id": "_Id61o0CYv3y"
      }
    },
    {
      "cell_type": "code",
      "source": [
        "# Define the input matrix 'a'\n",
        "a = np.array([[1, 2, 3, 4], [1, 1, 2, 3], [0, 1, 1, 0]])\n",
        "print(\"Original Matrix (a):\\n\", a)"
      ],
      "metadata": {
        "colab": {
          "base_uri": "https://localhost:8080/"
        },
        "id": "zJlGVRRpok2U",
        "outputId": "c602a9cd-2d11-4caa-d6d2-cbde851e578d"
      },
      "execution_count": 2,
      "outputs": [
        {
          "output_type": "stream",
          "name": "stdout",
          "text": [
            "Original Matrix (a):\n",
            " [[1 2 3 4]\n",
            " [1 1 2 3]\n",
            " [0 1 1 0]]\n"
          ]
        }
      ]
    },
    {
      "cell_type": "markdown",
      "source": [
        "The SVD of this 3x4 matrix seeks a factorization in the form\n",
        "Here is the correct matrix representation with \\(\\sigma_3\\) in the correct position:  \n",
        "\\\n",
        "\\begin{bmatrix}\n",
        "1 & 2 & 3 & 4 \\\\\n",
        "1 & 1 & 2 & 3 \\\\\n",
        "0 & 1 & 1 & 0\n",
        "\\end{bmatrix} =\n",
        "\\begin{bmatrix}\n",
        "a_{11} & a_{12} & a_{13} \\\\\n",
        "a_{21} & a_{22} & a_{23} \\\\\n",
        "a_{31} & a_{32} & a_{33}\n",
        "\\end{bmatrix} x\n",
        "\\begin{bmatrix}\n",
        "\\sigma_1 & 0 & 0 & 0 \\\\\n",
        "0 & \\sigma_2 & 0 & 0 \\\\\n",
        "0 & 0 & \\sigma_3 & 0\n",
        "\\end{bmatrix} x\n",
        "\\begin{bmatrix}\n",
        "b_{11} & b_{12} & b_{13} & b_{14} \\\\\n",
        "b_{21} & b_{22} & b_{23} & b_{24} \\\\\n",
        "b_{31} & b_{32} & b_{33} & b_{34} \\\\\n",
        "b_{41} & b_{42} & b_{43} & b_{44}\n",
        "\\end{bmatrix}\n",
        "\n"
      ],
      "metadata": {
        "id": "a0oix7srZSyd"
      }
    },
    {
      "cell_type": "markdown",
      "source": [],
      "metadata": {
        "id": "8bNUuFOMc5cw"
      }
    },
    {
      "cell_type": "markdown",
      "source": [
        "The number of singular values, σ's is at most 3, since the original matrix has rank of at most 3"
      ],
      "metadata": {
        "id": "Z5dhilJ4coqD"
      }
    },
    {
      "cell_type": "markdown",
      "source": [
        "The left singular matrix and the right singular matrix are orthonormal"
      ],
      "metadata": {
        "id": "jSEOWatbc6dE"
      }
    },
    {
      "cell_type": "code",
      "source": [
        "# Perform Singular Value Decomposition (SVD)\n",
        "u, s, vh = np.linalg.svd(a, full_matrices=True)"
      ],
      "metadata": {
        "id": "1VAEjRCtphfY"
      },
      "execution_count": 3,
      "outputs": []
    },
    {
      "cell_type": "code",
      "source": [
        "# Print singular values\n",
        "print(\"\\nSingular Values (s):\\n\", s)"
      ],
      "metadata": {
        "colab": {
          "base_uri": "https://localhost:8080/"
        },
        "id": "gZol51Rgpg65",
        "outputId": "0b8c0470-ee31-4a51-87a0-dcf91404f29b"
      },
      "execution_count": 4,
      "outputs": [
        {
          "output_type": "stream",
          "name": "stdout",
          "text": [
            "\n",
            "Singular Values (s):\n",
            " [6.7509 1.1734 0.2186]\n"
          ]
        }
      ]
    },
    {
      "cell_type": "code",
      "source": [
        "# Print shapes of U, S, and Vh matrices\n",
        "print(\"\\nShapes of U, S, and Vh matrices:\", u.shape, s.shape, vh.shape)"
      ],
      "metadata": {
        "colab": {
          "base_uri": "https://localhost:8080/"
        },
        "id": "DvgRhMpgq-_c",
        "outputId": "4696e5e3-2f43-4232-8ab0-7dd5a9c1bf9e"
      },
      "execution_count": 5,
      "outputs": [
        {
          "output_type": "stream",
          "name": "stdout",
          "text": [
            "\n",
            "Shapes of U, S, and Vh matrices: (3, 3) (3,) (4, 4)\n"
          ]
        }
      ]
    },
    {
      "cell_type": "code",
      "source": [
        "# Print U matrix and verify its orthonormality\n",
        "print(\"\\nU Matrix:\\n\", u)\n",
        "print(\"\\nU * U^T (Verification of orthonormality):\\n\", u.dot(u.T))"
      ],
      "metadata": {
        "colab": {
          "base_uri": "https://localhost:8080/"
        },
        "id": "iCf9GqBjrBtb",
        "outputId": "79343f6d-53f4-4312-9f99-27b549f3f424"
      },
      "execution_count": 6,
      "outputs": [
        {
          "output_type": "stream",
          "name": "stdout",
          "text": [
            "\n",
            "U Matrix:\n",
            " [[ 0.8109  0.0934 -0.5776]\n",
            " [ 0.57   -0.3493  0.7437]\n",
            " [ 0.1323  0.9324  0.3365]]\n",
            "\n",
            "U * U^T (Verification of orthonormality):\n",
            " [[ 1.  0.  0.]\n",
            " [ 0.  1. -0.]\n",
            " [ 0. -0.  1.]]\n"
          ]
        }
      ]
    },
    {
      "cell_type": "code",
      "source": [
        "# Print Vh matrix and verify its orthonormality\n",
        "print(\"\\nVh Matrix:\\n\", vh)\n",
        "print(\"\\nVh * Vh^T (Verification of orthonormality):\\n\", vh.dot(vh.T))\n"
      ],
      "metadata": {
        "colab": {
          "base_uri": "https://localhost:8080/"
        },
        "id": "kgrNeO2-rGgA",
        "outputId": "9c1c5718-5a54-45c4-f3f4-055eb9d3992d"
      },
      "execution_count": 7,
      "outputs": [
        {
          "output_type": "stream",
          "name": "stdout",
          "text": [
            "\n",
            "Vh Matrix:\n",
            " [[ 0.2046  0.3443  0.5488  0.7338]\n",
            " [-0.2181  0.6561  0.438  -0.5746]\n",
            " [ 0.7598 -0.3431  0.4167 -0.3625]\n",
            " [-0.5774 -0.5774  0.5774  0.    ]]\n",
            "\n",
            "Vh * Vh^T (Verification of orthonormality):\n",
            " [[ 1.  0. -0.  0.]\n",
            " [ 0.  1.  0.  0.]\n",
            " [-0.  0.  1.  0.]\n",
            " [ 0.  0.  0.  1.]]\n"
          ]
        }
      ]
    },
    {
      "cell_type": "code",
      "source": [
        "# Create a diagonal matrix 'sd' with singular values\n",
        "sd = np.diag(s)\n",
        "print(\"\\nDiagonal Matrix (sd) with Singular Values:\\n\", sd)\n"
      ],
      "metadata": {
        "colab": {
          "base_uri": "https://localhost:8080/"
        },
        "id": "4nZ24_RMrQfR",
        "outputId": "edc2b0c1-4273-4e76-8a8d-3f77eecbe8ac"
      },
      "execution_count": 8,
      "outputs": [
        {
          "output_type": "stream",
          "name": "stdout",
          "text": [
            "\n",
            "Diagonal Matrix (sd) with Singular Values:\n",
            " [[6.7509 0.     0.    ]\n",
            " [0.     1.1734 0.    ]\n",
            " [0.     0.     0.2186]]\n"
          ]
        }
      ]
    },
    {
      "cell_type": "code",
      "source": [
        "# Create a matrix 'sigma' with the same shape as 'a'\n",
        "# and fill it with the singular values\n",
        "b = np.zeros((3, 4))\n",
        "b[:, :-1] = sd  # Fill the first 3 columns with 'sd'\n",
        "sigma = b\n",
        "print(\"\\nSigma Matrix:\\n\", sigma)"
      ],
      "metadata": {
        "colab": {
          "base_uri": "https://localhost:8080/"
        },
        "id": "VZOIEDLhrlb9",
        "outputId": "d8ada27a-fd26-41bc-8c0b-0487153911ed"
      },
      "execution_count": 9,
      "outputs": [
        {
          "output_type": "stream",
          "name": "stdout",
          "text": [
            "\n",
            "Sigma Matrix:\n",
            " [[6.7509 0.     0.     0.    ]\n",
            " [0.     1.1734 0.     0.    ]\n",
            " [0.     0.     0.2186 0.    ]]\n"
          ]
        }
      ]
    },
    {
      "cell_type": "code",
      "source": [
        "# Reconstruct the original matrix 'a' using U, Sigma, and Vh\n",
        "reconstructed_a = np.dot(np.dot(u, sigma), vh)\n",
        "print(\"\\nReconstructed Matrix (a):\\n\", reconstructed_a)"
      ],
      "metadata": {
        "colab": {
          "base_uri": "https://localhost:8080/"
        },
        "id": "s8xA9fevrnmR",
        "outputId": "1de4345e-beb9-4410-f191-6ae36df6059d"
      },
      "execution_count": 10,
      "outputs": [
        {
          "output_type": "stream",
          "name": "stdout",
          "text": [
            "\n",
            "Reconstructed Matrix (a):\n",
            " [[ 1.  2.  3.  4.]\n",
            " [ 1.  1.  2.  3.]\n",
            " [ 0.  1.  1. -0.]]\n"
          ]
        }
      ]
    }
  ]
}