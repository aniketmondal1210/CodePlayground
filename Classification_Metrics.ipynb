{
  "nbformat": 4,
  "nbformat_minor": 0,
  "metadata": {
    "colab": {
      "provenance": [],
      "authorship_tag": "ABX9TyPxZbiCysjDq7xnpL8So/tb",
      "include_colab_link": true
    },
    "kernelspec": {
      "name": "python3",
      "display_name": "Python 3"
    },
    "language_info": {
      "name": "python"
    }
  },
  "cells": [
    {
      "cell_type": "markdown",
      "metadata": {
        "id": "view-in-github",
        "colab_type": "text"
      },
      "source": [
        "<a href=\"https://colab.research.google.com/github/aniketmondal1210/CodePlayground/blob/main/Classification_Metrics.ipynb\" target=\"_parent\"><img src=\"https://colab.research.google.com/assets/colab-badge.svg\" alt=\"Open In Colab\"/></a>"
      ]
    },
    {
      "cell_type": "code",
      "execution_count": null,
      "metadata": {
        "id": "M-UOXmkOEt-K"
      },
      "outputs": [],
      "source": [
        "from sklearn import metrics"
      ]
    },
    {
      "cell_type": "code",
      "source": [
        "y_actual = [\"c\",\"h\",\"f\",\"c\",\"h\",\"f\",\"c\",\"h\",\"h\"] # c -> cricket , f -> football , h -> hockey\n",
        "y_pred = [\"c\",\"c\",\"f\",\"h\",\"h\",\"c\",\"c\",\"f\",\"f\"] # c -> cricket , f -> football , h -> hockey"
      ],
      "metadata": {
        "id": "7iNRYwbdE5Ye"
      },
      "execution_count": null,
      "outputs": []
    },
    {
      "cell_type": "code",
      "source": [
        "cn = metrics.confusion_matrix(y_actual,y_pred,labels=[\"c\",\"f\",\"h\"])\n",
        "print(cn)"
      ],
      "metadata": {
        "colab": {
          "base_uri": "https://localhost:8080/"
        },
        "id": "Wshrbs7lFgW6",
        "outputId": "1f39fba7-6d99-407c-cd03-291df70c26eb"
      },
      "execution_count": null,
      "outputs": [
        {
          "output_type": "stream",
          "name": "stdout",
          "text": [
            "[[2 0 1]\n",
            " [1 1 0]\n",
            " [1 2 1]]\n"
          ]
        }
      ]
    },
    {
      "cell_type": "code",
      "source": [
        "cn = metrics.classification_report(y_actual,y_pred,labels=[\"c\",\"f\",\"h\"])\n",
        "print(cn)"
      ],
      "metadata": {
        "colab": {
          "base_uri": "https://localhost:8080/"
        },
        "id": "-j2ByIO6HoaM",
        "outputId": "29a0156a-3187-4231-baef-50ddff72285a"
      },
      "execution_count": null,
      "outputs": [
        {
          "output_type": "stream",
          "name": "stdout",
          "text": [
            "              precision    recall  f1-score   support\n",
            "\n",
            "           c       0.50      0.67      0.57         3\n",
            "           f       0.33      0.50      0.40         2\n",
            "           h       0.50      0.25      0.33         4\n",
            "\n",
            "    accuracy                           0.44         9\n",
            "   macro avg       0.44      0.47      0.43         9\n",
            "weighted avg       0.46      0.44      0.43         9\n",
            "\n"
          ]
        }
      ]
    }
  ]
}