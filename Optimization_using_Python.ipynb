{
  "nbformat": 4,
  "nbformat_minor": 0,
  "metadata": {
    "colab": {
      "provenance": [],
      "authorship_tag": "ABX9TyNAapMnGRnrOQCzPBb/OJEH",
      "include_colab_link": true
    },
    "kernelspec": {
      "name": "python3",
      "display_name": "Python 3"
    },
    "language_info": {
      "name": "python"
    }
  },
  "cells": [
    {
      "cell_type": "markdown",
      "metadata": {
        "id": "view-in-github",
        "colab_type": "text"
      },
      "source": [
        "<a href=\"https://colab.research.google.com/github/aniketmondal1210/CodePlayground/blob/main/Optimization_using_Python.ipynb\" target=\"_parent\"><img src=\"https://colab.research.google.com/assets/colab-badge.svg\" alt=\"Open In Colab\"/></a>"
      ]
    },
    {
      "cell_type": "code",
      "execution_count": 7,
      "metadata": {
        "colab": {
          "base_uri": "https://localhost:8080/"
        },
        "id": "WCOseU4cqHjA",
        "outputId": "e923d223-f2ff-4a82-80a5-28c612302333"
      },
      "outputs": [
        {
          "output_type": "stream",
          "name": "stdout",
          "text": [
            "     pcost       dcost       gap    pres   dres   k/t\n",
            " 0:  1.0471e+01 -7.7647e+00  1e+01  0e+00  5e-01  1e+00\n",
            " 1:  8.4116e+00  2.4976e+00  5e+00  2e-16  2e-01  5e-01\n",
            " 2:  4.5406e+00  3.5762e+00  9e-01  3e-17  3e-02  2e-01\n",
            " 3:  4.0080e+00  3.9869e+00  2e-02  3e-17  7e-04  5e-03\n",
            " 4:  4.0001e+00  3.9999e+00  2e-04  2e-17  7e-06  5e-05\n",
            " 5:  4.0000e+00  4.0000e+00  2e-06  2e-16  7e-08  5e-07\n",
            "Optimal solution found.\n",
            "[ 2.00e+00]\n",
            "[ 5.38e-07]\n",
            "\n"
          ]
        }
      ],
      "source": [
        "from cvxopt import matrix, solvers\n",
        "A = matrix([[-1.0,2.0,-1.0,0.0],[-1.0,3.0,0.0,-1.0]])\n",
        "#print(A)\n",
        "#A.size\n",
        "b = matrix([-2.0,12.0,0.0,0.0])\n",
        "c = matrix([2.0,3.0])\n",
        "sol = solvers.lp(c, A, b)\n",
        "print(sol['x'])"
      ]
    },
    {
      "cell_type": "code",
      "source": [
        "from cvxopt import matrix, solvers\n",
        "A = matrix([[-1.0,2.0,-1.0,0.0],[-1.0,3.0,0.0,-1.0]])\n",
        "#print(A)\n",
        "#A.size\n",
        "b = matrix([-2.0,12.0,0.0,0.0])\n",
        "c = matrix([2.0,3.0])\n",
        "sol = solvers.lp(c, A, b, options = {'maxiters':3})\n",
        "print(sol['x'])"
      ],
      "metadata": {
        "colab": {
          "base_uri": "https://localhost:8080/"
        },
        "id": "U3d8nOWOrUQU",
        "outputId": "411a29ea-cdb8-4971-f7dd-9897e021eaa9"
      },
      "execution_count": 6,
      "outputs": [
        {
          "output_type": "stream",
          "name": "stdout",
          "text": [
            "     pcost       dcost       gap    pres   dres   k/t\n",
            " 0:  1.0471e+01 -7.7647e+00  1e+01  0e+00  5e-01  1e+00\n",
            " 1:  8.4116e+00  2.4976e+00  5e+00  2e-16  2e-01  5e-01\n",
            " 2:  4.5406e+00  3.5762e+00  9e-01  3e-17  3e-02  2e-01\n",
            " 3:  4.0080e+00  3.9869e+00  2e-02  3e-17  7e-04  5e-03\n",
            "Terminated (maximum number of iterations reached).\n",
            "[ 2.00e+00]\n",
            "[ 5.38e-03]\n",
            "\n"
          ]
        }
      ]
    },
    {
      "cell_type": "code",
      "source": [
        "from cvxopt import matrix, solvers\n",
        "\n",
        "P = matrix([[2.0, 1.0], [1.0, 4.0]])\n",
        "q = matrix([3.0, 4.0])\n",
        "G = matrix([[-1.0, 0.0], [0.0, -1.0]])\n",
        "h = matrix([0.0, 0.0])\n",
        "A = matrix([[-1.0], [1.0]])\n",
        "b = matrix([1.0])\n",
        "sol = solvers.qp(P, q, G, h, A, b)\n",
        "print(sol['x'])"
      ],
      "metadata": {
        "colab": {
          "base_uri": "https://localhost:8080/"
        },
        "id": "Ol55jABssQll",
        "outputId": "0e0bab88-216e-44d9-bcb5-2bcb8627fc6d"
      },
      "execution_count": 10,
      "outputs": [
        {
          "output_type": "stream",
          "name": "stdout",
          "text": [
            "     pcost       dcost       gap    pres   dres\n",
            " 0: -2.8400e+00 -1.0600e+00  2e+00  3e+00  1e-16\n",
            " 1: -2.0671e+00  1.5686e+00  3e-01  1e+00  3e-17\n",
            " 2:  6.7683e+00  5.9687e+00  8e-01  1e-16  1e-14\n",
            " 3:  6.0075e+00  5.9998e+00  8e-03  4e-16  2e-16\n",
            " 4:  6.0001e+00  6.0000e+00  8e-05  2e-16  3e-16\n",
            " 5:  6.0000e+00  6.0000e+00  8e-07  2e-16  3e-16\n",
            "Optimal solution found.\n",
            "[ 6.27e-08]\n",
            "[ 1.00e+00]\n",
            "\n"
          ]
        }
      ]
    }
  ]
}